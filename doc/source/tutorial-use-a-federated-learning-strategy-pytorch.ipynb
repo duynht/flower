{
 "cells": [
  {
   "attachments": {},
   "cell_type": "markdown",
   "metadata": {},
   "source": [
    "# Use a federated learning strategy\n",
    "\n",
    "Welcome to the next part of the federated learning tutorial. In previous parts of this tutorial, we introduced federated learning with PyTorch and Flower ([part 1](https://flower.dev/docs/framework/tutorial-get-started-with-flower-pytorch.html)).\n",
    "\n",
    "In this notebook, we'll begin to customize the federated learning system we built in the introductory notebook (again, using [Flower](https://flower.dev/) and [PyTorch](https://pytorch.org/)).\n",
    "\n",
    "> [Star Flower on GitHub](https://github.com/adap/flower) ⭐️ and join the Flower community on Slack to connect, ask questions, and get help: [Join Slack](https://flower.dev/join-slack) 🌼 We'd love to hear from you in the `#introductions` channel! And if anything is unclear, head over to the `#questions` channel.\n",
    "\n",
    "Let's move beyond FedAvg with Flower strategies!"
   ]
  },
  {
   "cell_type": "markdown",
   "metadata": {},
   "source": [
    "## Preparation\n",
    "\n",
    "Before we begin with the actual code, let's make sure that we have everything we need."
   ]
  },
  {
   "cell_type": "markdown",
   "metadata": {},
   "source": [
    "### Installing dependencies\n",
    "\n",
    "First, we install the necessary packages:"
   ]
  },
  {
   "cell_type": "code",
   "execution_count": 1,
   "metadata": {},
   "outputs": [],
   "source": [
    "!pip install -q flwr[simulation] torch torchvision"
   ]
  },
  {
   "cell_type": "markdown",
   "metadata": {},
   "source": [
    "Now that we have all dependencies installed, we can import everything we need for this tutorial:"
   ]
  },
  {
   "cell_type": "code",
   "execution_count": 2,
   "metadata": {},
   "outputs": [
    {
     "name": "stdout",
     "output_type": "stream",
     "text": [
      "Training on cpu using PyTorch 2.0.1+cu117 and Flower 1.4.0\n"
     ]
    }
   ],
   "source": [
    "from collections import OrderedDict\n",
    "from typing import Dict, List, Optional, Tuple\n",
    "\n",
    "import numpy as np\n",
    "import torch\n",
    "import torch.nn as nn\n",
    "import torch.nn.functional as F\n",
    "import torchvision.transforms as transforms\n",
    "from torch.utils.data import DataLoader, random_split\n",
    "from torchvision.datasets import CIFAR10\n",
    "\n",
    "import flwr as fl\n",
    "\n",
    "DEVICE = torch.device(\"cpu\")  # Try \"cuda\" to train on GPU\n",
    "print(\n",
    "    f\"Training on {DEVICE} using PyTorch {torch.__version__} and Flower {fl.__version__}\"\n",
    ")"
   ]
  },
  {
   "cell_type": "markdown",
   "metadata": {},
   "source": [
    "It is possible to switch to a runtime that has GPU acceleration enabled (on Google Colab: `Runtime > Change runtime type > Hardware acclerator: GPU > Save`). Note, however, that Google Colab is not always able to offer GPU acceleration. If you see an error related to GPU availability in one of the following sections, consider switching back to CPU-based execution by setting `DEVICE = torch.device(\"cpu\")`. If the runtime has GPU acceleration enabled, you should see the output `Training on cuda`, otherwise it'll say `Training on cpu`."
   ]
  },
  {
   "cell_type": "markdown",
   "metadata": {},
   "source": [
    "### Data loading\n",
    "\n",
    "Let's now load the CIFAR-10 training and test set, partition them into ten smaller datasets (each split into training and validation set), and wrap everything in their own `DataLoader`. We introduce a new parameter `num_clients` which allows us to call `load_datasets` with different numbers of clients."
   ]
  },
  {
   "cell_type": "code",
   "execution_count": 3,
   "metadata": {},
   "outputs": [
    {
     "name": "stdout",
     "output_type": "stream",
     "text": [
      "Files already downloaded and verified\n",
      "Files already downloaded and verified\n"
     ]
    }
   ],
   "source": [
    "NUM_CLIENTS = 10\n",
    "\n",
    "\n",
    "def load_datasets(num_clients: int):\n",
    "    # Download and transform CIFAR-10 (train and test)\n",
    "    transform = transforms.Compose(\n",
    "        [transforms.ToTensor(), transforms.Normalize((0.5, 0.5, 0.5), (0.5, 0.5, 0.5))]\n",
    "    )\n",
    "    trainset = CIFAR10(\"./dataset\", train=True, download=True, transform=transform)\n",
    "    testset = CIFAR10(\"./dataset\", train=False, download=True, transform=transform)\n",
    "\n",
    "    # Split training set into `num_clients` partitions to simulate different local datasets\n",
    "    partition_size = len(trainset) // num_clients\n",
    "    lengths = [partition_size] * num_clients\n",
    "    datasets = random_split(trainset, lengths, torch.Generator().manual_seed(42))\n",
    "\n",
    "    # Split each partition into train/val and create DataLoader\n",
    "    trainloaders = []\n",
    "    valloaders = []\n",
    "    for ds in datasets:\n",
    "        len_val = len(ds) // 10  # 10 % validation set\n",
    "        len_train = len(ds) - len_val\n",
    "        lengths = [len_train, len_val]\n",
    "        ds_train, ds_val = random_split(ds, lengths, torch.Generator().manual_seed(42))\n",
    "        trainloaders.append(DataLoader(ds_train, batch_size=32, shuffle=True))\n",
    "        valloaders.append(DataLoader(ds_val, batch_size=32))\n",
    "    testloader = DataLoader(testset, batch_size=32)\n",
    "    return trainloaders, valloaders, testloader\n",
    "\n",
    "\n",
    "trainloaders, valloaders, testloader = load_datasets(NUM_CLIENTS)"
   ]
  },
  {
   "cell_type": "markdown",
   "metadata": {},
   "source": [
    "### Model training/evaluation\n",
    "\n",
    "Let's continue with the usual model definition (including `set_parameters` and `get_parameters`), training and test functions:"
   ]
  },
  {
   "cell_type": "code",
   "execution_count": 4,
   "metadata": {},
   "outputs": [],
   "source": [
    "class Net(nn.Module):\n",
    "    def __init__(self) -> None:\n",
    "        super(Net, self).__init__()\n",
    "        self.conv1 = nn.Conv2d(3, 6, 5)\n",
    "        self.pool = nn.MaxPool2d(2, 2)\n",
    "        self.conv2 = nn.Conv2d(6, 16, 5)\n",
    "        self.fc1 = nn.Linear(16 * 5 * 5, 120)\n",
    "        self.fc2 = nn.Linear(120, 84)\n",
    "        self.fc3 = nn.Linear(84, 10)\n",
    "\n",
    "    def forward(self, x: torch.Tensor) -> torch.Tensor:\n",
    "        x = self.pool(F.relu(self.conv1(x)))\n",
    "        x = self.pool(F.relu(self.conv2(x)))\n",
    "        x = x.view(-1, 16 * 5 * 5)\n",
    "        x = F.relu(self.fc1(x))\n",
    "        x = F.relu(self.fc2(x))\n",
    "        x = self.fc3(x)\n",
    "        return x\n",
    "\n",
    "\n",
    "def get_parameters(net) -> List[np.ndarray]:\n",
    "    return [val.cpu().numpy() for _, val in net.state_dict().items()]\n",
    "\n",
    "\n",
    "def set_parameters(net, parameters: List[np.ndarray]):\n",
    "    params_dict = zip(net.state_dict().keys(), parameters)\n",
    "    state_dict = OrderedDict({k: torch.Tensor(v) for k, v in params_dict})\n",
    "    net.load_state_dict(state_dict, strict=True)\n",
    "\n",
    "\n",
    "def train(net, trainloader, epochs: int):\n",
    "    \"\"\"Train the network on the training set.\"\"\"\n",
    "    criterion = torch.nn.CrossEntropyLoss()\n",
    "    optimizer = torch.optim.Adam(net.parameters())\n",
    "    net.train()\n",
    "    for epoch in range(epochs):\n",
    "        correct, total, epoch_loss = 0, 0, 0.0\n",
    "        for images, labels in trainloader:\n",
    "            images, labels = images.to(DEVICE), labels.to(DEVICE)\n",
    "            optimizer.zero_grad()\n",
    "            outputs = net(images)\n",
    "            loss = criterion(net(images), labels)\n",
    "            loss.backward()\n",
    "            optimizer.step()\n",
    "            # Metrics\n",
    "            epoch_loss += loss\n",
    "            total += labels.size(0)\n",
    "            correct += (torch.max(outputs.data, 1)[1] == labels).sum().item()\n",
    "        epoch_loss /= len(trainloader.dataset)\n",
    "        epoch_acc = correct / total\n",
    "        print(f\"Epoch {epoch+1}: train loss {epoch_loss}, accuracy {epoch_acc}\")\n",
    "\n",
    "\n",
    "def test(net, testloader):\n",
    "    \"\"\"Evaluate the network on the entire test set.\"\"\"\n",
    "    criterion = torch.nn.CrossEntropyLoss()\n",
    "    correct, total, loss = 0, 0, 0.0\n",
    "    net.eval()\n",
    "    with torch.no_grad():\n",
    "        for images, labels in testloader:\n",
    "            images, labels = images.to(DEVICE), labels.to(DEVICE)\n",
    "            outputs = net(images)\n",
    "            loss += criterion(outputs, labels).item()\n",
    "            _, predicted = torch.max(outputs.data, 1)\n",
    "            total += labels.size(0)\n",
    "            correct += (predicted == labels).sum().item()\n",
    "    loss /= len(testloader.dataset)\n",
    "    accuracy = correct / total\n",
    "    return loss, accuracy"
   ]
  },
  {
   "cell_type": "markdown",
   "metadata": {},
   "source": [
    "### Flower client\n",
    "\n",
    "To implement the Flower client, we (again) create a subclass of `flwr.client.NumPyClient` and implement the three methods `get_parameters`, `fit`, and `evaluate`. Here, we also pass the `cid` to the client and use it log additional details:"
   ]
  },
  {
   "cell_type": "code",
   "execution_count": 5,
   "metadata": {},
   "outputs": [],
   "source": [
    "class FlowerClient(fl.client.NumPyClient):\n",
    "    def __init__(self, cid, net, trainloader, valloader):\n",
    "        self.cid = cid\n",
    "        self.net = net\n",
    "        self.trainloader = trainloader\n",
    "        self.valloader = valloader\n",
    "\n",
    "    def get_parameters(self, config):\n",
    "        print(f\"[Client {self.cid}] get_parameters\")\n",
    "        return get_parameters(self.net)\n",
    "\n",
    "    def fit(self, parameters, config):\n",
    "        print(f\"[Client {self.cid}] fit, config: {config}\")\n",
    "        set_parameters(self.net, parameters)\n",
    "        train(self.net, self.trainloader, epochs=1)\n",
    "        return get_parameters(self.net), len(self.trainloader), {}\n",
    "\n",
    "    def evaluate(self, parameters, config):\n",
    "        print(f\"[Client {self.cid}] evaluate, config: {config}\")\n",
    "        set_parameters(self.net, parameters)\n",
    "        loss, accuracy = test(self.net, self.valloader)\n",
    "        return float(loss), len(self.valloader), {\"accuracy\": float(accuracy)}\n",
    "\n",
    "\n",
    "def client_fn(cid) -> FlowerClient:\n",
    "    net = Net().to(DEVICE)\n",
    "    trainloader = trainloaders[int(cid)]\n",
    "    valloader = valloaders[int(cid)]\n",
    "    return FlowerClient(cid, net, trainloader, valloader)"
   ]
  },
  {
   "cell_type": "markdown",
   "metadata": {},
   "source": [
    "## Strategy customization\n",
    "\n",
    "So far, everything should look familiar if you've worked through the introductory notebook. With that, we're ready to introduce a number of new features. "
   ]
  },
  {
   "cell_type": "markdown",
   "metadata": {},
   "source": [
    "### Server-side parameter **initialization**\n",
    "\n",
    "Flower, by default, initializes the global model by asking one random client for the initial parameters. In many cases, we want more control over parameter initialization though. Flower therefore allows you to directly pass the initial parameters to the Strategy:"
   ]
  },
  {
   "cell_type": "code",
   "execution_count": 6,
   "metadata": {},
   "outputs": [
    {
     "name": "stderr",
     "output_type": "stream",
     "text": [
      "INFO flwr 2023-08-25 16:41:03,232 | app.py:146 | Starting Flower simulation, config: ServerConfig(num_rounds=3, round_timeout=None)\n",
      "2023-08-25 16:41:05,518\tINFO worker.py:1621 -- Started a local Ray instance.\n",
      "INFO flwr 2023-08-25 16:41:07,143 | app.py:180 | Flower VCE: Ray initialized with resources: {'memory': 97757731021.0, 'object_store_memory': 46181884723.0, 'GPU': 8.0, 'node:172.28.177.173': 1.0, 'node:__internal_head__': 1.0, 'CPU': 80.0}\n",
      "INFO flwr 2023-08-25 16:41:07,144 | server.py:86 | Initializing global parameters\n",
      "INFO flwr 2023-08-25 16:41:07,145 | server.py:269 | Using initial parameters provided by strategy\n",
      "INFO flwr 2023-08-25 16:41:07,147 | server.py:88 | Evaluating initial parameters\n",
      "INFO flwr 2023-08-25 16:41:07,147 | server.py:101 | FL starting\n",
      "DEBUG flwr 2023-08-25 16:41:07,149 | server.py:218 | fit_round 1: strategy sampled 3 clients (out of 10)\n"
     ]
    },
    {
     "name": "stdout",
     "output_type": "stream",
     "text": [
      "\u001b[2m\u001b[36m(launch_and_fit pid=1371782)\u001b[0m [Client 4] fit, config: {}\n"
     ]
    },
    {
     "name": "stderr",
     "output_type": "stream",
     "text": [
      "DEBUG flwr 2023-08-25 16:41:14,238 | server.py:232 | fit_round 1 received 3 results and 0 failures\n",
      "WARNING flwr 2023-08-25 16:41:14,249 | fedavg.py:243 | No fit_metrics_aggregation_fn provided\n",
      "DEBUG flwr 2023-08-25 16:41:14,250 | server.py:168 | evaluate_round 1: strategy sampled 3 clients (out of 10)\n"
     ]
    },
    {
     "name": "stdout",
     "output_type": "stream",
     "text": [
      "\u001b[2m\u001b[36m(launch_and_fit pid=1371782)\u001b[0m Epoch 1: train loss 0.06582393497228622, accuracy 0.2288888888888889\n"
     ]
    },
    {
     "name": "stderr",
     "output_type": "stream",
     "text": [
      "DEBUG flwr 2023-08-25 16:41:17,506 | server.py:182 | evaluate_round 1 received 3 results and 0 failures\n",
      "WARNING flwr 2023-08-25 16:41:17,508 | fedavg.py:274 | No evaluate_metrics_aggregation_fn provided\n",
      "DEBUG flwr 2023-08-25 16:41:17,510 | server.py:218 | fit_round 2: strategy sampled 3 clients (out of 10)\n"
     ]
    },
    {
     "name": "stdout",
     "output_type": "stream",
     "text": [
      "\u001b[2m\u001b[36m(launch_and_evaluate pid=1371768)\u001b[0m [Client 1] evaluate, config: {}\n",
      "\u001b[2m\u001b[36m(launch_and_fit pid=1371783)\u001b[0m [Client 6] fit, config: {}\u001b[32m [repeated 2x across cluster] (Ray deduplicates logs by default. Set RAY_DEDUP_LOGS=0 to disable log deduplication, or see https://docs.ray.io/en/master/ray-observability/ray-logging.html#log-deduplication for more options.)\u001b[0m\n",
      "\u001b[2m\u001b[36m(launch_and_fit pid=1371783)\u001b[0m Epoch 1: train loss 0.06623289734125137, accuracy 0.2051111111111111\u001b[32m [repeated 2x across cluster]\u001b[0m\n",
      "\u001b[2m\u001b[36m(launch_and_evaluate pid=1371782)\u001b[0m [Client 6] evaluate, config: {}\u001b[32m [repeated 2x across cluster]\u001b[0m\n",
      "\u001b[2m\u001b[36m(launch_and_fit pid=1371782)\u001b[0m [Client 8] fit, config: {}\u001b[32m [repeated 3x across cluster]\u001b[0m\n"
     ]
    },
    {
     "name": "stderr",
     "output_type": "stream",
     "text": [
      "DEBUG flwr 2023-08-25 16:41:22,624 | server.py:232 | fit_round 2 received 3 results and 0 failures\n",
      "DEBUG flwr 2023-08-25 16:41:22,635 | server.py:168 | evaluate_round 2: strategy sampled 3 clients (out of 10)\n",
      "DEBUG flwr 2023-08-25 16:41:25,870 | server.py:182 | evaluate_round 2 received 3 results and 0 failures\n",
      "DEBUG flwr 2023-08-25 16:41:25,872 | server.py:218 | fit_round 3: strategy sampled 3 clients (out of 10)\n"
     ]
    },
    {
     "name": "stdout",
     "output_type": "stream",
     "text": [
      "\u001b[2m\u001b[36m(launch_and_fit pid=1371783)\u001b[0m Epoch 1: train loss 0.05976856127381325, accuracy 0.294\u001b[32m [repeated 3x across cluster]\u001b[0m\n",
      "\u001b[2m\u001b[36m(launch_and_evaluate pid=1371782)\u001b[0m [Client 0] evaluate, config: {}\u001b[32m [repeated 3x across cluster]\u001b[0m\n",
      "\u001b[2m\u001b[36m(launch_and_fit pid=1371768)\u001b[0m [Client 1] fit, config: {}\n",
      "\u001b[2m\u001b[36m(launch_and_fit pid=1371783)\u001b[0m [Client 8] fit, config: {}\n"
     ]
    },
    {
     "name": "stderr",
     "output_type": "stream",
     "text": [
      "DEBUG flwr 2023-08-25 16:41:30,967 | server.py:232 | fit_round 3 received 3 results and 0 failures\n",
      "DEBUG flwr 2023-08-25 16:41:30,975 | server.py:168 | evaluate_round 3: strategy sampled 3 clients (out of 10)\n"
     ]
    },
    {
     "name": "stdout",
     "output_type": "stream",
     "text": [
      "\u001b[2m\u001b[36m(launch_and_fit pid=1371768)\u001b[0m Epoch 1: train loss 0.05554109439253807, accuracy 0.34933333333333333\n",
      "\u001b[2m\u001b[36m(launch_and_fit pid=1371783)\u001b[0m Epoch 1: train loss 0.055733997374773026, accuracy 0.3402222222222222\n"
     ]
    },
    {
     "name": "stderr",
     "output_type": "stream",
     "text": [
      "DEBUG flwr 2023-08-25 16:41:34,143 | server.py:182 | evaluate_round 3 received 3 results and 0 failures\n",
      "INFO flwr 2023-08-25 16:41:34,145 | server.py:147 | FL finished in 26.99680959060788\n",
      "INFO flwr 2023-08-25 16:41:34,148 | app.py:218 | app_fit: losses_distributed [(1, 0.06367969091733296), (2, 0.058633947372436525), (3, 0.05535255058606466)]\n",
      "INFO flwr 2023-08-25 16:41:34,149 | app.py:219 | app_fit: metrics_distributed_fit {}\n",
      "INFO flwr 2023-08-25 16:41:34,150 | app.py:220 | app_fit: metrics_distributed {}\n",
      "INFO flwr 2023-08-25 16:41:34,151 | app.py:221 | app_fit: losses_centralized []\n",
      "INFO flwr 2023-08-25 16:41:34,152 | app.py:222 | app_fit: metrics_centralized {}\n"
     ]
    },
    {
     "name": "stdout",
     "output_type": "stream",
     "text": [
      "\u001b[2m\u001b[36m(launch_and_evaluate pid=1371768)\u001b[0m [Client 9] evaluate, config: {}\n",
      "\u001b[2m\u001b[36m(launch_and_fit pid=1371782)\u001b[0m [Client 5] fit, config: {}\n",
      "\u001b[2m\u001b[36m(launch_and_evaluate pid=1371783)\u001b[0m [Client 1] evaluate, config: {}\n"
     ]
    },
    {
     "data": {
      "text/plain": [
       "History (loss, distributed):\n",
       "\tround 1: 0.06367969091733296\n",
       "\tround 2: 0.058633947372436525\n",
       "\tround 3: 0.05535255058606466"
      ]
     },
     "execution_count": 6,
     "metadata": {},
     "output_type": "execute_result"
    }
   ],
   "source": [
    "# Create an instance of the model and get the parameters\n",
    "params = get_parameters(Net())\n",
    "\n",
    "# Pass parameters to the Strategy for server-side parameter initialization\n",
    "strategy = fl.server.strategy.FedAvg(\n",
    "    fraction_fit=0.3,\n",
    "    fraction_evaluate=0.3,\n",
    "    min_fit_clients=3,\n",
    "    min_evaluate_clients=3,\n",
    "    min_available_clients=NUM_CLIENTS,\n",
    "    initial_parameters=fl.common.ndarrays_to_parameters(params),\n",
    ")\n",
    "\n",
    "# Specify client resources if you need GPU (defaults to 1 CPU and 0 GPU)\n",
    "client_resources = None\n",
    "if DEVICE.type == \"cuda\":\n",
    "    client_resources = {\"num_gpus\": 1}\n",
    "\n",
    "# Start simulation\n",
    "fl.simulation.start_simulation(\n",
    "    client_fn=client_fn,\n",
    "    num_clients=NUM_CLIENTS,\n",
    "    config=fl.server.ServerConfig(num_rounds=3),  # Just three rounds\n",
    "    strategy=strategy,\n",
    "    client_resources=client_resources,\n",
    ")"
   ]
  },
  {
   "cell_type": "markdown",
   "metadata": {},
   "source": [
    "Passing `initial_parameters` to the `FedAvg` strategy prevents Flower from asking one of the clients for the initial parameters. If we look closely, we can see that the logs do not show any calls to the `FlowerClient.get_parameters` method."
   ]
  },
  {
   "cell_type": "markdown",
   "metadata": {},
   "source": [
    "### Starting with a customized strategy\n",
    "\n",
    "We've seen the function `start_simulation` before. It accepts a number of arguments, amongst them the `client_fn` used to create `FlowerClient` instances, the number of clients to simulate `num_clients`, the number of rounds `num_rounds`, and the strategy.\n",
    "\n",
    "The strategy encapsulates the federated learning approach/algorithm, for example, `FedAvg` or `FedAdagrad`. Let's try to use a different strategy this time:"
   ]
  },
  {
   "cell_type": "code",
   "execution_count": 7,
   "metadata": {},
   "outputs": [
    {
     "name": "stderr",
     "output_type": "stream",
     "text": [
      "INFO flwr 2023-08-25 16:42:17,926 | app.py:146 | Starting Flower simulation, config: ServerConfig(num_rounds=3, round_timeout=None)\n",
      "2023-08-25 16:42:22,124\tINFO worker.py:1621 -- Started a local Ray instance.\n",
      "INFO flwr 2023-08-25 16:42:23,781 | app.py:180 | Flower VCE: Ray initialized with resources: {'memory': 97712644301.0, 'node:__internal_head__': 1.0, 'node:172.28.177.173': 1.0, 'GPU': 8.0, 'object_store_memory': 46162561843.0, 'CPU': 80.0}\n",
      "INFO flwr 2023-08-25 16:42:23,783 | server.py:86 | Initializing global parameters\n",
      "INFO flwr 2023-08-25 16:42:23,784 | server.py:269 | Using initial parameters provided by strategy\n",
      "INFO flwr 2023-08-25 16:42:23,784 | server.py:88 | Evaluating initial parameters\n",
      "INFO flwr 2023-08-25 16:42:23,785 | server.py:101 | FL starting\n",
      "DEBUG flwr 2023-08-25 16:42:23,787 | server.py:218 | fit_round 1: strategy sampled 3 clients (out of 10)\n"
     ]
    },
    {
     "name": "stdout",
     "output_type": "stream",
     "text": [
      "\u001b[2m\u001b[36m(launch_and_fit pid=1386927)\u001b[0m [Client 9] fit, config: {}\n"
     ]
    },
    {
     "name": "stderr",
     "output_type": "stream",
     "text": [
      "DEBUG flwr 2023-08-25 16:42:30,801 | server.py:232 | fit_round 1 received 3 results and 0 failures\n",
      "WARNING flwr 2023-08-25 16:42:30,811 | fedavg.py:243 | No fit_metrics_aggregation_fn provided\n",
      "DEBUG flwr 2023-08-25 16:42:30,817 | server.py:168 | evaluate_round 1: strategy sampled 3 clients (out of 10)\n"
     ]
    },
    {
     "name": "stdout",
     "output_type": "stream",
     "text": [
      "\u001b[2m\u001b[36m(launch_and_fit pid=1386868)\u001b[0m Epoch 1: train loss 0.06543184071779251, accuracy 0.21288888888888888\n",
      "\u001b[2m\u001b[36m(launch_and_fit pid=1386924)\u001b[0m [Client 0] fit, config: {}\u001b[32m [repeated 2x across cluster]\u001b[0m\n",
      "\u001b[2m\u001b[36m(launch_and_evaluate pid=1386927)\u001b[0m [Client 2] evaluate, config: {}\n"
     ]
    },
    {
     "name": "stderr",
     "output_type": "stream",
     "text": [
      "DEBUG flwr 2023-08-25 16:42:34,026 | server.py:182 | evaluate_round 1 received 3 results and 0 failures\n",
      "WARNING flwr 2023-08-25 16:42:34,027 | fedavg.py:274 | No evaluate_metrics_aggregation_fn provided\n",
      "DEBUG flwr 2023-08-25 16:42:34,029 | server.py:218 | fit_round 2: strategy sampled 3 clients (out of 10)\n"
     ]
    },
    {
     "name": "stdout",
     "output_type": "stream",
     "text": [
      "\u001b[2m\u001b[36m(launch_and_fit pid=1386927)\u001b[0m Epoch 1: train loss 0.0657472163438797, accuracy 0.22733333333333333\u001b[32m [repeated 2x across cluster]\u001b[0m\n"
     ]
    },
    {
     "name": "stderr",
     "output_type": "stream",
     "text": [
      "DEBUG flwr 2023-08-25 16:42:39,308 | server.py:232 | fit_round 2 received 3 results and 0 failures\n",
      "DEBUG flwr 2023-08-25 16:42:39,322 | server.py:168 | evaluate_round 2: strategy sampled 3 clients (out of 10)\n"
     ]
    },
    {
     "name": "stdout",
     "output_type": "stream",
     "text": [
      "\u001b[2m\u001b[36m(launch_and_fit pid=1386924)\u001b[0m [Client 3] fit, config: {}\u001b[32m [repeated 3x across cluster]\u001b[0m\n",
      "\u001b[2m\u001b[36m(launch_and_evaluate pid=1386924)\u001b[0m [Client 3] evaluate, config: {}\u001b[32m [repeated 2x across cluster]\u001b[0m\n"
     ]
    },
    {
     "name": "stderr",
     "output_type": "stream",
     "text": [
      "DEBUG flwr 2023-08-25 16:42:42,529 | server.py:182 | evaluate_round 2 received 3 results and 0 failures\n",
      "DEBUG flwr 2023-08-25 16:42:42,530 | server.py:218 | fit_round 3: strategy sampled 3 clients (out of 10)\n"
     ]
    },
    {
     "name": "stdout",
     "output_type": "stream",
     "text": [
      "\u001b[2m\u001b[36m(launch_and_fit pid=1386927)\u001b[0m Epoch 1: train loss 0.5987341403961182, accuracy 0.2906666666666667\u001b[32m [repeated 3x across cluster]\u001b[0m\n",
      "\u001b[2m\u001b[36m(launch_and_fit pid=1386924)\u001b[0m [Client 5] fit, config: {}\n",
      "\u001b[2m\u001b[36m(launch_and_evaluate pid=1386924)\u001b[0m [Client 9] evaluate, config: {}\u001b[32m [repeated 3x across cluster]\u001b[0m\n",
      "\u001b[2m\u001b[36m(launch_and_fit pid=1386927)\u001b[0m [Client 1] fit, config: {}\n"
     ]
    },
    {
     "name": "stderr",
     "output_type": "stream",
     "text": [
      "DEBUG flwr 2023-08-25 16:42:47,644 | server.py:232 | fit_round 3 received 3 results and 0 failures\n",
      "DEBUG flwr 2023-08-25 16:42:47,657 | server.py:168 | evaluate_round 3: strategy sampled 3 clients (out of 10)\n"
     ]
    },
    {
     "name": "stdout",
     "output_type": "stream",
     "text": [
      "\u001b[2m\u001b[36m(launch_and_fit pid=1386924)\u001b[0m Epoch 1: train loss 0.07578238099813461, accuracy 0.16066666666666668\u001b[32m [repeated 2x across cluster]\u001b[0m\n"
     ]
    },
    {
     "name": "stderr",
     "output_type": "stream",
     "text": [
      "DEBUG flwr 2023-08-25 16:42:50,853 | server.py:182 | evaluate_round 3 received 3 results and 0 failures\n",
      "INFO flwr 2023-08-25 16:42:50,854 | server.py:147 | FL finished in 27.067959655076265\n",
      "INFO flwr 2023-08-25 16:42:50,856 | app.py:218 | app_fit: losses_distributed [(1, 4.751413950602213), (2, 0.2475512479146322), (3, 0.10965212011337279)]\n",
      "INFO flwr 2023-08-25 16:42:50,857 | app.py:219 | app_fit: metrics_distributed_fit {}\n",
      "INFO flwr 2023-08-25 16:42:50,858 | app.py:220 | app_fit: metrics_distributed {}\n",
      "INFO flwr 2023-08-25 16:42:50,858 | app.py:221 | app_fit: losses_centralized []\n",
      "INFO flwr 2023-08-25 16:42:50,859 | app.py:222 | app_fit: metrics_centralized {}\n"
     ]
    },
    {
     "name": "stdout",
     "output_type": "stream",
     "text": [
      "\u001b[2m\u001b[36m(launch_and_evaluate pid=1386927)\u001b[0m [Client 2] evaluate, config: {}\n",
      "\u001b[2m\u001b[36m(launch_and_fit pid=1386868)\u001b[0m [Client 2] fit, config: {}\n",
      "\u001b[2m\u001b[36m(launch_and_evaluate pid=1386868)\u001b[0m [Client 9] evaluate, config: {}\n"
     ]
    },
    {
     "data": {
      "text/plain": [
       "History (loss, distributed):\n",
       "\tround 1: 4.751413950602213\n",
       "\tround 2: 0.2475512479146322\n",
       "\tround 3: 0.10965212011337279"
      ]
     },
     "execution_count": 7,
     "metadata": {},
     "output_type": "execute_result"
    }
   ],
   "source": [
    "# Create FedAdam strategy\n",
    "strategy = fl.server.strategy.FedAdagrad(\n",
    "    fraction_fit=0.3,\n",
    "    fraction_evaluate=0.3,\n",
    "    min_fit_clients=3,\n",
    "    min_evaluate_clients=3,\n",
    "    min_available_clients=NUM_CLIENTS,\n",
    "    initial_parameters=fl.common.ndarrays_to_parameters(get_parameters(Net())),\n",
    ")\n",
    "\n",
    "# Start simulation\n",
    "fl.simulation.start_simulation(\n",
    "    client_fn=client_fn,\n",
    "    num_clients=NUM_CLIENTS,\n",
    "    config=fl.server.ServerConfig(num_rounds=3),  # Just three rounds\n",
    "    strategy=strategy,\n",
    "    client_resources=client_resources,\n",
    ")"
   ]
  },
  {
   "cell_type": "markdown",
   "metadata": {},
   "source": [
    "## Server-side parameter **evaluation**\n",
    "\n",
    "Flower can evaluate the aggregated model on the server-side or on the client-side. Client-side and server-side evaluation are similar in some ways, but different in others.\n",
    "\n",
    "**Centralized Evaluation** (or *server-side evaluation*) is conceptually simple: it works the same way that evaluation in centralized machine learning does. If there is a server-side dataset that can be used for evaluation purposes, then that's great. We can evaluate the newly aggregated model after each round of training without having to send the model to clients. We're also fortunate in the sense that our entire evaluation dataset is available at all times.\n",
    "\n",
    "**Federated Evaluation** (or *client-side evaluation*) is more complex, but also more powerful: it doesn't require a centralized dataset and allows us to evaluate models over a larger set of data, which often yields more realistic evaluation results. In fact, many scenarios require us to use **Federated Evaluation** if we want to get representative evaluation results at all. But this power comes at a cost: once we start to evaluate on the client side, we should be aware that our evaluation dataset can change over consecutive rounds of learning if those clients are not always available. Moreover, the dataset held by each client can also change over consecutive rounds. This can lead to evaluation results that are not stable, so even if we would not change the model, we'd see our evaluation results fluctuate over consecutive rounds.\n",
    "\n",
    "We've seen how federated evaluation works on the client side (i.e., by implementing the `evaluate` method in `FlowerClient`). Now let's see how we can evaluate aggregated model parameters on the server-side:"
   ]
  },
  {
   "cell_type": "code",
   "execution_count": 8,
   "metadata": {},
   "outputs": [],
   "source": [
    "# The `evaluate` function will be by Flower called after every round\n",
    "def evaluate(\n",
    "    server_round: int,\n",
    "    parameters: fl.common.NDArrays,\n",
    "    config: Dict[str, fl.common.Scalar],\n",
    ") -> Optional[Tuple[float, Dict[str, fl.common.Scalar]]]:\n",
    "    net = Net().to(DEVICE)\n",
    "    valloader = valloaders[0]\n",
    "    set_parameters(net, parameters)  # Update model with the latest parameters\n",
    "    loss, accuracy = test(net, valloader)\n",
    "    print(f\"Server-side evaluation loss {loss} / accuracy {accuracy}\")\n",
    "    return loss, {\"accuracy\": accuracy}"
   ]
  },
  {
   "cell_type": "code",
   "execution_count": 9,
   "metadata": {},
   "outputs": [
    {
     "name": "stderr",
     "output_type": "stream",
     "text": [
      "INFO flwr 2023-08-25 16:50:34,843 | app.py:146 | Starting Flower simulation, config: ServerConfig(num_rounds=3, round_timeout=None)\n",
      "2023-08-25 16:50:39,057\tINFO worker.py:1621 -- Started a local Ray instance.\n",
      "INFO flwr 2023-08-25 16:50:40,522 | app.py:180 | Flower VCE: Ray initialized with resources: {'GPU': 8.0, 'object_store_memory': 46143342182.0, 'node:172.28.177.173': 1.0, 'node:__internal_head__': 1.0, 'memory': 97667798426.0, 'CPU': 80.0}\n",
      "INFO flwr 2023-08-25 16:50:40,523 | server.py:86 | Initializing global parameters\n",
      "INFO flwr 2023-08-25 16:50:40,524 | server.py:269 | Using initial parameters provided by strategy\n",
      "INFO flwr 2023-08-25 16:50:40,525 | server.py:88 | Evaluating initial parameters\n",
      "INFO flwr 2023-08-25 16:50:40,687 | server.py:91 | initial parameters (loss, other metrics): 0.07360826683044433, {'accuracy': 0.1}\n",
      "INFO flwr 2023-08-25 16:50:40,687 | server.py:101 | FL starting\n",
      "DEBUG flwr 2023-08-25 16:50:40,690 | server.py:218 | fit_round 1: strategy sampled 3 clients (out of 10)\n"
     ]
    },
    {
     "name": "stdout",
     "output_type": "stream",
     "text": [
      "Server-side evaluation loss 0.07360826683044433 / accuracy 0.1\n",
      "\u001b[2m\u001b[36m(launch_and_fit pid=1474666)\u001b[0m [Client 4] fit, config: {}\n",
      "\u001b[2m\u001b[36m(launch_and_fit pid=1474632)\u001b[0m Epoch 1: train loss 0.06457281857728958, accuracy 0.23044444444444445\n"
     ]
    },
    {
     "name": "stderr",
     "output_type": "stream",
     "text": [
      "DEBUG flwr 2023-08-25 16:50:47,752 | server.py:232 | fit_round 1 received 3 results and 0 failures\n",
      "WARNING flwr 2023-08-25 16:50:47,761 | fedavg.py:243 | No fit_metrics_aggregation_fn provided\n",
      "INFO flwr 2023-08-25 16:50:47,919 | server.py:119 | fit progress: (1, 0.06191800975799561, {'accuracy': 0.292}, 7.229074642062187)\n",
      "DEBUG flwr 2023-08-25 16:50:47,920 | server.py:168 | evaluate_round 1: strategy sampled 3 clients (out of 10)\n"
     ]
    },
    {
     "name": "stdout",
     "output_type": "stream",
     "text": [
      "Server-side evaluation loss 0.06191800975799561 / accuracy 0.292\n"
     ]
    },
    {
     "name": "stderr",
     "output_type": "stream",
     "text": [
      "DEBUG flwr 2023-08-25 16:50:51,131 | server.py:182 | evaluate_round 1 received 3 results and 0 failures\n",
      "WARNING flwr 2023-08-25 16:50:51,132 | fedavg.py:274 | No evaluate_metrics_aggregation_fn provided\n",
      "DEBUG flwr 2023-08-25 16:50:51,133 | server.py:218 | fit_round 2: strategy sampled 3 clients (out of 10)\n"
     ]
    },
    {
     "name": "stdout",
     "output_type": "stream",
     "text": [
      "\u001b[2m\u001b[36m(launch_and_evaluate pid=1474666)\u001b[0m [Client 3] evaluate, config: {}\n",
      "\u001b[2m\u001b[36m(launch_and_fit pid=1474632)\u001b[0m [Client 1] fit, config: {}\u001b[32m [repeated 2x across cluster]\u001b[0m\n",
      "\u001b[2m\u001b[36m(launch_and_fit pid=1474649)\u001b[0m Epoch 1: train loss 0.06384826451539993, accuracy 0.24266666666666667\u001b[32m [repeated 2x across cluster]\u001b[0m\n",
      "\u001b[2m\u001b[36m(launch_and_evaluate pid=1474632)\u001b[0m [Client 4] evaluate, config: {}\u001b[32m [repeated 2x across cluster]\u001b[0m\n",
      "\u001b[2m\u001b[36m(launch_and_fit pid=1474632)\u001b[0m [Client 5] fit, config: {}\u001b[32m [repeated 3x across cluster]\u001b[0m\n"
     ]
    },
    {
     "name": "stderr",
     "output_type": "stream",
     "text": [
      "DEBUG flwr 2023-08-25 16:50:56,594 | server.py:232 | fit_round 2 received 3 results and 0 failures\n",
      "INFO flwr 2023-08-25 16:50:56,777 | server.py:119 | fit progress: (2, 0.05564793944358826, {'accuracy': 0.336}, 16.087243545800447)\n",
      "DEBUG flwr 2023-08-25 16:50:56,779 | server.py:168 | evaluate_round 2: strategy sampled 3 clients (out of 10)\n"
     ]
    },
    {
     "name": "stdout",
     "output_type": "stream",
     "text": [
      "Server-side evaluation loss 0.05564793944358826 / accuracy 0.336\n"
     ]
    },
    {
     "name": "stderr",
     "output_type": "stream",
     "text": [
      "DEBUG flwr 2023-08-25 16:51:00,098 | server.py:182 | evaluate_round 2 received 3 results and 0 failures\n",
      "DEBUG flwr 2023-08-25 16:51:00,100 | server.py:218 | fit_round 3: strategy sampled 3 clients (out of 10)\n"
     ]
    },
    {
     "name": "stdout",
     "output_type": "stream",
     "text": [
      "\u001b[2m\u001b[36m(launch_and_fit pid=1474649)\u001b[0m Epoch 1: train loss 0.057791829109191895, accuracy 0.324\u001b[32m [repeated 3x across cluster]\u001b[0m\n",
      "\u001b[2m\u001b[36m(launch_and_evaluate pid=1474632)\u001b[0m [Client 0] evaluate, config: {}\u001b[32m [repeated 3x across cluster]\u001b[0m\n",
      "\u001b[2m\u001b[36m(launch_and_fit pid=1474666)\u001b[0m [Client 5] fit, config: {}\n",
      "\u001b[2m\u001b[36m(launch_and_fit pid=1474649)\u001b[0m [Client 9] fit, config: {}\n",
      "\u001b[2m\u001b[36m(launch_and_fit pid=1474632)\u001b[0m Epoch 1: train loss 0.052802711725234985, accuracy 0.38022222222222224\n"
     ]
    },
    {
     "name": "stderr",
     "output_type": "stream",
     "text": [
      "DEBUG flwr 2023-08-25 16:51:05,319 | server.py:232 | fit_round 3 received 3 results and 0 failures\n"
     ]
    },
    {
     "name": "stdout",
     "output_type": "stream",
     "text": [
      "\u001b[2m\u001b[36m(launch_and_fit pid=1474666)\u001b[0m Epoch 1: train loss 0.05346626415848732, accuracy 0.3731111111111111\n"
     ]
    },
    {
     "name": "stderr",
     "output_type": "stream",
     "text": [
      "INFO flwr 2023-08-25 16:51:05,525 | server.py:119 | fit progress: (3, 0.05336381769180298, {'accuracy': 0.372}, 24.83516550064087)\n",
      "DEBUG flwr 2023-08-25 16:51:05,526 | server.py:168 | evaluate_round 3: strategy sampled 3 clients (out of 10)\n"
     ]
    },
    {
     "name": "stdout",
     "output_type": "stream",
     "text": [
      "Server-side evaluation loss 0.05336381769180298 / accuracy 0.372\n"
     ]
    },
    {
     "name": "stderr",
     "output_type": "stream",
     "text": [
      "DEBUG flwr 2023-08-25 16:51:08,596 | server.py:182 | evaluate_round 3 received 3 results and 0 failures\n",
      "INFO flwr 2023-08-25 16:51:08,598 | server.py:147 | FL finished in 27.907622922211885\n",
      "INFO flwr 2023-08-25 16:51:08,599 | app.py:218 | app_fit: losses_distributed [(1, 0.06120289699236552), (2, 0.05528086352348327), (3, 0.05136912751197815)]\n",
      "INFO flwr 2023-08-25 16:51:08,600 | app.py:219 | app_fit: metrics_distributed_fit {}\n",
      "INFO flwr 2023-08-25 16:51:08,601 | app.py:220 | app_fit: metrics_distributed {}\n",
      "INFO flwr 2023-08-25 16:51:08,602 | app.py:221 | app_fit: losses_centralized [(0, 0.07360826683044433), (1, 0.06191800975799561), (2, 0.05564793944358826), (3, 0.05336381769180298)]\n",
      "INFO flwr 2023-08-25 16:51:08,603 | app.py:222 | app_fit: metrics_centralized {'accuracy': [(0, 0.1), (1, 0.292), (2, 0.336), (3, 0.372)]}\n"
     ]
    },
    {
     "name": "stdout",
     "output_type": "stream",
     "text": [
      "\u001b[2m\u001b[36m(launch_and_evaluate pid=1474666)\u001b[0m [Client 2] evaluate, config: {}\n",
      "\u001b[2m\u001b[36m(launch_and_fit pid=1474632)\u001b[0m [Client 1] fit, config: {}\n",
      "\u001b[2m\u001b[36m(launch_and_evaluate pid=1474649)\u001b[0m [Client 8] evaluate, config: {}\n"
     ]
    },
    {
     "data": {
      "text/plain": [
       "History (loss, distributed):\n",
       "\tround 1: 0.06120289699236552\n",
       "\tround 2: 0.05528086352348327\n",
       "\tround 3: 0.05136912751197815\n",
       "History (loss, centralized):\n",
       "\tround 0: 0.07360826683044433\n",
       "\tround 1: 0.06191800975799561\n",
       "\tround 2: 0.05564793944358826\n",
       "\tround 3: 0.05336381769180298\n",
       "History (metrics, centralized):\n",
       "{'accuracy': [(0, 0.1), (1, 0.292), (2, 0.336), (3, 0.372)]}"
      ]
     },
     "execution_count": 9,
     "metadata": {},
     "output_type": "execute_result"
    }
   ],
   "source": [
    "strategy = fl.server.strategy.FedAvg(\n",
    "    fraction_fit=0.3,\n",
    "    fraction_evaluate=0.3,\n",
    "    min_fit_clients=3,\n",
    "    min_evaluate_clients=3,\n",
    "    min_available_clients=NUM_CLIENTS,\n",
    "    initial_parameters=fl.common.ndarrays_to_parameters(get_parameters(Net())),\n",
    "    evaluate_fn=evaluate,  # Pass the evaluation function\n",
    ")\n",
    "\n",
    "fl.simulation.start_simulation(\n",
    "    client_fn=client_fn,\n",
    "    num_clients=NUM_CLIENTS,\n",
    "    config=fl.server.ServerConfig(num_rounds=3),  # Just three rounds\n",
    "    strategy=strategy,\n",
    "    client_resources=client_resources,\n",
    ")"
   ]
  },
  {
   "cell_type": "markdown",
   "metadata": {},
   "source": [
    "## Sending/receiving arbitrary values to/from clients\n",
    "\n",
    "In some situations, we want to configure client-side execution (training, evaluation) from the server-side. One example for that is the server asking the clients to train for a certain number of local epochs. Flower provides a way to send configuration values from the server to the clients using a dictionary. Let's look at an example where the clients receive values from the server through the `config` parameter in `fit` (`config` is also available in `evaluate`). The `fit` method receives the configuration dictionary through the `config` parameter and can then read values from this dictionary. In this example, it reads `server_round` and `local_epochs` and uses those values to improve the logging and configure the number of local training epochs:"
   ]
  },
  {
   "cell_type": "code",
   "execution_count": 10,
   "metadata": {},
   "outputs": [],
   "source": [
    "class FlowerClient(fl.client.NumPyClient):\n",
    "    def __init__(self, cid, net, trainloader, valloader):\n",
    "        self.cid = cid\n",
    "        self.net = net\n",
    "        self.trainloader = trainloader\n",
    "        self.valloader = valloader\n",
    "\n",
    "    def get_parameters(self, config):\n",
    "        print(f\"[Client {self.cid}] get_parameters\")\n",
    "        return get_parameters(self.net)\n",
    "\n",
    "    def fit(self, parameters, config):\n",
    "        # Read values from config\n",
    "        server_round = config[\"server_round\"]\n",
    "        local_epochs = config[\"local_epochs\"]\n",
    "\n",
    "        # Use values provided by the config\n",
    "        print(f\"[Client {self.cid}, round {server_round}] fit, config: {config}\")\n",
    "        set_parameters(self.net, parameters)\n",
    "        train(self.net, self.trainloader, epochs=local_epochs)\n",
    "        return get_parameters(self.net), len(self.trainloader), {}\n",
    "\n",
    "    def evaluate(self, parameters, config):\n",
    "        print(f\"[Client {self.cid}] evaluate, config: {config}\")\n",
    "        set_parameters(self.net, parameters)\n",
    "        loss, accuracy = test(self.net, self.valloader)\n",
    "        return float(loss), len(self.valloader), {\"accuracy\": float(accuracy)}\n",
    "\n",
    "\n",
    "def client_fn(cid) -> FlowerClient:\n",
    "    net = Net().to(DEVICE)\n",
    "    trainloader = trainloaders[int(cid)]\n",
    "    valloader = valloaders[int(cid)]\n",
    "    return FlowerClient(cid, net, trainloader, valloader)"
   ]
  },
  {
   "cell_type": "markdown",
   "metadata": {},
   "source": [
    "So how can we  send this config dictionary from server to clients? The built-in Flower Strategies provide way to do this, and it works similarly to the way server-side evaluation works. We provide a function to the strategy, and the strategy calls this function for every round of federated learning:"
   ]
  },
  {
   "cell_type": "code",
   "execution_count": 11,
   "metadata": {},
   "outputs": [],
   "source": [
    "def fit_config(server_round: int):\n",
    "    \"\"\"Return training configuration dict for each round.\n",
    "\n",
    "    Perform two rounds of training with one local epoch, increase to two local\n",
    "    epochs afterwards.\n",
    "    \"\"\"\n",
    "    config = {\n",
    "        \"server_round\": server_round,  # The current round of federated learning\n",
    "        \"local_epochs\": 1 if server_round < 2 else 2,  #\n",
    "    }\n",
    "    return config"
   ]
  },
  {
   "cell_type": "markdown",
   "metadata": {},
   "source": [
    "Next, we'll just pass this function to the FedAvg strategy before starting the simulation:"
   ]
  },
  {
   "cell_type": "code",
   "execution_count": 13,
   "metadata": {},
   "outputs": [
    {
     "name": "stderr",
     "output_type": "stream",
     "text": [
      "INFO flwr 2023-08-25 17:24:06,859 | app.py:146 | Starting Flower simulation, config: ServerConfig(num_rounds=3, round_timeout=None)\n",
      "2023-08-25 17:24:11,051\tINFO worker.py:1621 -- Started a local Ray instance.\n",
      "INFO flwr 2023-08-25 17:24:12,465 | app.py:180 | Flower VCE: Ray initialized with resources: {'object_store_memory': 45554904268.0, 'memory': 96294776628.0, 'node:__internal_head__': 1.0, 'node:172.28.177.173': 1.0, 'CPU': 80.0, 'GPU': 8.0}\n",
      "INFO flwr 2023-08-25 17:24:12,467 | server.py:86 | Initializing global parameters\n",
      "INFO flwr 2023-08-25 17:24:12,468 | server.py:269 | Using initial parameters provided by strategy\n",
      "INFO flwr 2023-08-25 17:24:12,469 | server.py:88 | Evaluating initial parameters\n",
      "INFO flwr 2023-08-25 17:24:12,913 | server.py:91 | initial parameters (loss, other metrics): 0.07375138854980469, {'accuracy': 0.098}\n",
      "INFO flwr 2023-08-25 17:24:12,913 | server.py:101 | FL starting\n",
      "DEBUG flwr 2023-08-25 17:24:12,914 | server.py:218 | fit_round 1: strategy sampled 3 clients (out of 10)\n"
     ]
    },
    {
     "name": "stdout",
     "output_type": "stream",
     "text": [
      "Server-side evaluation loss 0.07375138854980469 / accuracy 0.098\n",
      "\u001b[2m\u001b[36m(launch_and_fit pid=1848459)\u001b[0m [Client 4, round 1] fit, config: {'server_round': 1, 'local_epochs': 1}\n"
     ]
    },
    {
     "name": "stderr",
     "output_type": "stream",
     "text": [
      "DEBUG flwr 2023-08-25 17:24:19,990 | server.py:232 | fit_round 1 received 3 results and 0 failures\n",
      "WARNING flwr 2023-08-25 17:24:19,999 | fedavg.py:243 | No fit_metrics_aggregation_fn provided\n"
     ]
    },
    {
     "name": "stdout",
     "output_type": "stream",
     "text": [
      "\u001b[2m\u001b[36m(launch_and_fit pid=1848459)\u001b[0m Epoch 1: train loss 0.06459751725196838, accuracy 0.2288888888888889\n"
     ]
    },
    {
     "name": "stderr",
     "output_type": "stream",
     "text": [
      "INFO flwr 2023-08-25 17:24:20,261 | server.py:119 | fit progress: (1, 0.06259999442100525, {'accuracy': 0.28}, 7.347835049033165)\n",
      "DEBUG flwr 2023-08-25 17:24:20,262 | server.py:168 | evaluate_round 1: strategy sampled 3 clients (out of 10)\n"
     ]
    },
    {
     "name": "stdout",
     "output_type": "stream",
     "text": [
      "Server-side evaluation loss 0.06259999442100525 / accuracy 0.28\n"
     ]
    },
    {
     "name": "stderr",
     "output_type": "stream",
     "text": [
      "DEBUG flwr 2023-08-25 17:24:23,380 | server.py:182 | evaluate_round 1 received 3 results and 0 failures\n",
      "WARNING flwr 2023-08-25 17:24:23,382 | fedavg.py:274 | No evaluate_metrics_aggregation_fn provided\n",
      "DEBUG flwr 2023-08-25 17:24:23,383 | server.py:218 | fit_round 2: strategy sampled 3 clients (out of 10)\n"
     ]
    },
    {
     "name": "stdout",
     "output_type": "stream",
     "text": [
      "\u001b[2m\u001b[36m(launch_and_evaluate pid=1848459)\u001b[0m [Client 8] evaluate, config: {}\n",
      "\u001b[2m\u001b[36m(launch_and_fit pid=1848465)\u001b[0m [Client 7, round 1] fit, config: {'server_round': 1, 'local_epochs': 1}\u001b[32m [repeated 2x across cluster]\u001b[0m\n",
      "\u001b[2m\u001b[36m(launch_and_fit pid=1848506)\u001b[0m Epoch 1: train loss 0.06443279981613159, accuracy 0.23755555555555555\u001b[32m [repeated 2x across cluster]\u001b[0m\n",
      "\u001b[2m\u001b[36m(launch_and_evaluate pid=1848465)\u001b[0m [Client 5] evaluate, config: {}\u001b[32m [repeated 2x across cluster]\u001b[0m\n",
      "\u001b[2m\u001b[36m(launch_and_fit pid=1848465)\u001b[0m [Client 1, round 2] fit, config: {'server_round': 2, 'local_epochs': 2}\u001b[32m [repeated 3x across cluster]\u001b[0m\n"
     ]
    },
    {
     "name": "stderr",
     "output_type": "stream",
     "text": [
      "DEBUG flwr 2023-08-25 17:24:30,799 | server.py:232 | fit_round 2 received 3 results and 0 failures\n",
      "INFO flwr 2023-08-25 17:24:31,023 | server.py:119 | fit progress: (2, 0.05397287464141846, {'accuracy': 0.376}, 18.109514739364386)\n",
      "DEBUG flwr 2023-08-25 17:24:31,024 | server.py:168 | evaluate_round 2: strategy sampled 3 clients (out of 10)\n"
     ]
    },
    {
     "name": "stdout",
     "output_type": "stream",
     "text": [
      "Server-side evaluation loss 0.05397287464141846 / accuracy 0.376\n"
     ]
    },
    {
     "name": "stderr",
     "output_type": "stream",
     "text": [
      "DEBUG flwr 2023-08-25 17:24:34,169 | server.py:182 | evaluate_round 2 received 3 results and 0 failures\n",
      "DEBUG flwr 2023-08-25 17:24:34,171 | server.py:218 | fit_round 3: strategy sampled 3 clients (out of 10)\n"
     ]
    },
    {
     "name": "stdout",
     "output_type": "stream",
     "text": [
      "\u001b[2m\u001b[36m(launch_and_fit pid=1848506)\u001b[0m Epoch 2: train loss 0.0531545914709568, accuracy 0.37377777777777776\u001b[32m [repeated 6x across cluster]\u001b[0m\n",
      "\u001b[2m\u001b[36m(launch_and_evaluate pid=1848459)\u001b[0m [Client 0] evaluate, config: {}\n",
      "\u001b[2m\u001b[36m(launch_and_evaluate pid=1848506)\u001b[0m [Client 9] evaluate, config: {}\n",
      "\u001b[2m\u001b[36m(launch_and_fit pid=1848459)\u001b[0m [Client 1, round 3] fit, config: {'server_round': 3, 'local_epochs': 2}\n",
      "\u001b[2m\u001b[36m(launch_and_fit pid=1848459)\u001b[0m Epoch 1: train loss 0.0515829436480999, accuracy 0.3997777777777778\n",
      "\u001b[2m\u001b[36m(launch_and_evaluate pid=1848465)\u001b[0m [Client 8] evaluate, config: {}\n",
      "\u001b[2m\u001b[36m(launch_and_fit pid=1848506)\u001b[0m Epoch 1: train loss 0.05195147916674614, accuracy 0.39311111111111113\n"
     ]
    },
    {
     "name": "stderr",
     "output_type": "stream",
     "text": [
      "DEBUG flwr 2023-08-25 17:24:41,571 | server.py:232 | fit_round 3 received 3 results and 0 failures\n",
      "INFO flwr 2023-08-25 17:24:41,721 | server.py:119 | fit progress: (3, 0.050082776069641115, {'accuracy': 0.432}, 28.807085759937763)\n",
      "DEBUG flwr 2023-08-25 17:24:41,721 | server.py:168 | evaluate_round 3: strategy sampled 3 clients (out of 10)\n"
     ]
    },
    {
     "name": "stdout",
     "output_type": "stream",
     "text": [
      "Server-side evaluation loss 0.050082776069641115 / accuracy 0.432\n"
     ]
    },
    {
     "name": "stderr",
     "output_type": "stream",
     "text": [
      "DEBUG flwr 2023-08-25 17:24:44,851 | server.py:182 | evaluate_round 3 received 3 results and 0 failures\n",
      "INFO flwr 2023-08-25 17:24:44,853 | server.py:147 | FL finished in 31.938989464193583\n",
      "INFO flwr 2023-08-25 17:24:44,853 | app.py:218 | app_fit: losses_distributed [(1, 0.06234831833839417), (2, 0.05407735363642375), (3, 0.049298333565394085)]\n",
      "INFO flwr 2023-08-25 17:24:44,854 | app.py:219 | app_fit: metrics_distributed_fit {}\n",
      "INFO flwr 2023-08-25 17:24:44,854 | app.py:220 | app_fit: metrics_distributed {}\n",
      "INFO flwr 2023-08-25 17:24:44,855 | app.py:221 | app_fit: losses_centralized [(0, 0.07375138854980469), (1, 0.06259999442100525), (2, 0.05397287464141846), (3, 0.050082776069641115)]\n",
      "INFO flwr 2023-08-25 17:24:44,855 | app.py:222 | app_fit: metrics_centralized {'accuracy': [(0, 0.098), (1, 0.28), (2, 0.376), (3, 0.432)]}\n"
     ]
    },
    {
     "name": "stdout",
     "output_type": "stream",
     "text": [
      "\u001b[2m\u001b[36m(launch_and_evaluate pid=1848459)\u001b[0m [Client 6] evaluate, config: {}\n",
      "\u001b[2m\u001b[36m(launch_and_fit pid=1848465)\u001b[0m [Client 2, round 3] fit, config: {'server_round': 3, 'local_epochs': 2}\u001b[32m [repeated 2x across cluster]\u001b[0m\n",
      "\u001b[2m\u001b[36m(launch_and_fit pid=1848465)\u001b[0m Epoch 2: train loss 0.04974992573261261, accuracy 0.4137777777777778\u001b[32m [repeated 4x across cluster]\u001b[0m\n"
     ]
    },
    {
     "data": {
      "text/plain": [
       "History (loss, distributed):\n",
       "\tround 1: 0.06234831833839417\n",
       "\tround 2: 0.05407735363642375\n",
       "\tround 3: 0.049298333565394085\n",
       "History (loss, centralized):\n",
       "\tround 0: 0.07375138854980469\n",
       "\tround 1: 0.06259999442100525\n",
       "\tround 2: 0.05397287464141846\n",
       "\tround 3: 0.050082776069641115\n",
       "History (metrics, centralized):\n",
       "{'accuracy': [(0, 0.098), (1, 0.28), (2, 0.376), (3, 0.432)]}"
      ]
     },
     "execution_count": 13,
     "metadata": {},
     "output_type": "execute_result"
    }
   ],
   "source": [
    "strategy = fl.server.strategy.FedAvg(\n",
    "    fraction_fit=0.3,\n",
    "    fraction_evaluate=0.3,\n",
    "    min_fit_clients=3,\n",
    "    min_evaluate_clients=3,\n",
    "    min_available_clients=NUM_CLIENTS,\n",
    "    initial_parameters=fl.common.ndarrays_to_parameters(get_parameters(Net())),\n",
    "    evaluate_fn=evaluate,\n",
    "    on_fit_config_fn=fit_config,  # Pass the fit_config function\n",
    ")\n",
    "\n",
    "fl.simulation.start_simulation(\n",
    "    client_fn=client_fn,\n",
    "    num_clients=NUM_CLIENTS,\n",
    "    config=fl.server.ServerConfig(num_rounds=3),  # Just three rounds\n",
    "    strategy=strategy,\n",
    "    client_resources=client_resources,\n",
    ")"
   ]
  },
  {
   "cell_type": "markdown",
   "metadata": {},
   "source": [
    "As we can see, the client logs now include the current round of federated learning (which they read from the `config` dictionary). We can also configure local training to run for one epoch during the first and second round of federated learning, and then for two epochs during the third round.\n",
    "\n",
    "Clients can also return arbitrary values to the server. To do so, they return a dictionary from `fit` and/or `evaluate`. We have seen and used this concept throughout this notebook without mentioning it explicitly: our `FlowerClient` returns a dictionary containing a custom key/value pair as the third return value in `evaluate`."
   ]
  },
  {
   "cell_type": "markdown",
   "metadata": {},
   "source": [
    "## Scaling federated learning\n",
    "\n",
    "As a last step in this notebook, let's see how we can use Flower to experiment with a large number of clients."
   ]
  },
  {
   "cell_type": "code",
   "execution_count": 14,
   "metadata": {},
   "outputs": [
    {
     "name": "stdout",
     "output_type": "stream",
     "text": [
      "Files already downloaded and verified\n",
      "Files already downloaded and verified\n"
     ]
    }
   ],
   "source": [
    "NUM_CLIENTS = 1000\n",
    "\n",
    "trainloaders, valloaders, testloader = load_datasets(NUM_CLIENTS)"
   ]
  },
  {
   "cell_type": "markdown",
   "metadata": {},
   "source": [
    "We now have 1000 partitions, each holding 45 training and 5 validation examples. Given that the number of training examples on each client is quite small, we should probably train the model a bit longer, so we configure the clients to perform 3 local training epochs. We should also adjust the fraction of clients selected for training during each round (we don't want all 1000 clients participating in every round), so we adjust `fraction_fit` to `0.05`, which means that only 5% of available clients (so 50 clients) will be selected for training each round:\n"
   ]
  },
  {
   "cell_type": "code",
   "execution_count": 15,
   "metadata": {},
   "outputs": [
    {
     "name": "stderr",
     "output_type": "stream",
     "text": [
      "INFO flwr 2023-08-25 17:25:22,266 | app.py:146 | Starting Flower simulation, config: ServerConfig(num_rounds=3, round_timeout=None)\n",
      "2023-08-25 17:25:26,198\tINFO worker.py:1621 -- Started a local Ray instance.\n",
      "INFO flwr 2023-08-25 17:25:27,664 | app.py:180 | Flower VCE: Ray initialized with resources: {'memory': 96304751616.0, 'CPU': 80.0, 'object_store_memory': 45559179264.0, 'GPU': 8.0, 'node:172.28.177.173': 1.0, 'node:__internal_head__': 1.0}\n",
      "INFO flwr 2023-08-25 17:25:27,670 | server.py:86 | Initializing global parameters\n",
      "INFO flwr 2023-08-25 17:25:27,672 | server.py:269 | Using initial parameters provided by strategy\n",
      "INFO flwr 2023-08-25 17:25:27,673 | server.py:88 | Evaluating initial parameters\n",
      "INFO flwr 2023-08-25 17:25:27,674 | server.py:101 | FL starting\n",
      "DEBUG flwr 2023-08-25 17:25:27,675 | server.py:218 | fit_round 1: strategy sampled 25 clients (out of 1000)\n"
     ]
    },
    {
     "name": "stdout",
     "output_type": "stream",
     "text": [
      "\u001b[2m\u001b[36m(launch_and_fit pid=1863383)\u001b[0m [Client 420, round 1] fit, config: {'server_round': 1, 'local_epochs': 3}\n",
      "\u001b[2m\u001b[36m(launch_and_fit pid=1863383)\u001b[0m Epoch 1: train loss 0.1040804535150528, accuracy 0.06666666666666667\n",
      "\u001b[2m\u001b[36m(launch_and_fit pid=1863383)\u001b[0m Epoch 2: train loss 0.1027059331536293, accuracy 0.08888888888888889\n",
      "\u001b[2m\u001b[36m(launch_and_fit pid=1863383)\u001b[0m Epoch 3: train loss 0.10209744423627853, accuracy 0.15555555555555556\n",
      "\u001b[2m\u001b[36m(launch_and_fit pid=1863383)\u001b[0m [Client 841, round 1] fit, config: {'server_round': 1, 'local_epochs': 3}\n",
      "\u001b[2m\u001b[36m(launch_and_fit pid=1863383)\u001b[0m Epoch 1: train loss 0.10233889520168304, accuracy 0.1111111111111111\n",
      "\u001b[2m\u001b[36m(launch_and_fit pid=1863383)\u001b[0m Epoch 2: train loss 0.10215666145086288, accuracy 0.1111111111111111\n",
      "\u001b[2m\u001b[36m(launch_and_fit pid=1863383)\u001b[0m Epoch 3: train loss 0.10230378806591034, accuracy 0.1111111111111111\n",
      "\u001b[2m\u001b[36m(launch_and_fit pid=1863383)\u001b[0m [Client 664, round 1] fit, config: {'server_round': 1, 'local_epochs': 3}\n",
      "\u001b[2m\u001b[36m(launch_and_fit pid=1863383)\u001b[0m Epoch 1: train loss 0.10269245505332947, accuracy 0.044444444444444446\n",
      "\u001b[2m\u001b[36m(launch_and_fit pid=1863383)\u001b[0m Epoch 2: train loss 0.10172681510448456, accuracy 0.13333333333333333\n",
      "\u001b[2m\u001b[36m(launch_and_fit pid=1863383)\u001b[0m Epoch 3: train loss 0.10140325874090195, accuracy 0.13333333333333333\n"
     ]
    },
    {
     "name": "stderr",
     "output_type": "stream",
     "text": [
      "DEBUG flwr 2023-08-25 17:25:57,164 | server.py:232 | fit_round 1 received 25 results and 0 failures\n",
      "WARNING flwr 2023-08-25 17:25:57,206 | fedavg.py:243 | No fit_metrics_aggregation_fn provided\n",
      "DEBUG flwr 2023-08-25 17:25:57,207 | server.py:168 | evaluate_round 1: strategy sampled 50 clients (out of 1000)\n"
     ]
    },
    {
     "name": "stdout",
     "output_type": "stream",
     "text": [
      "\u001b[2m\u001b[36m(launch_and_fit pid=1863426)\u001b[0m [Client 868, round 1] fit, config: {'server_round': 1, 'local_epochs': 3}\u001b[32m [repeated 22x across cluster]\u001b[0m\n",
      "\u001b[2m\u001b[36m(launch_and_fit pid=1863379)\u001b[0m Epoch 3: train loss 0.101410873234272, accuracy 0.2\u001b[32m [repeated 63x across cluster]\u001b[0m\n",
      "\u001b[2m\u001b[36m(launch_and_evaluate pid=1863426)\u001b[0m [Client 747] evaluate, config: {}\n",
      "\u001b[2m\u001b[36m(launch_and_fit pid=1863425)\u001b[0m Epoch 3: train loss 0.10180016607046127, accuracy 0.1111111111111111\u001b[32m [repeated 3x across cluster]\u001b[0m\n",
      "\u001b[2m\u001b[36m(launch_and_evaluate pid=1863426)\u001b[0m [Client 151] evaluate, config: {}\n",
      "\u001b[2m\u001b[36m(launch_and_evaluate pid=1863419)\u001b[0m [Client 500] evaluate, config: {}\n",
      "\u001b[2m\u001b[36m(launch_and_evaluate pid=1863419)\u001b[0m [Client 67] evaluate, config: {}\n",
      "\u001b[2m\u001b[36m(launch_and_evaluate pid=1863419)\u001b[0m [Client 954] evaluate, config: {}\n",
      "\u001b[2m\u001b[36m(launch_and_evaluate pid=1863419)\u001b[0m [Client 239] evaluate, config: {}\u001b[32m [repeated 3x across cluster]\u001b[0m\n",
      "\u001b[2m\u001b[36m(launch_and_evaluate pid=1863379)\u001b[0m [Client 216] evaluate, config: {}\u001b[32m [repeated 4x across cluster]\u001b[0m\n",
      "\u001b[2m\u001b[36m(launch_and_evaluate pid=1863379)\u001b[0m [Client 926] evaluate, config: {}\u001b[32m [repeated 2x across cluster]\u001b[0m\n",
      "\u001b[2m\u001b[36m(launch_and_evaluate pid=1863426)\u001b[0m [Client 792] evaluate, config: {}\u001b[32m [repeated 3x across cluster]\u001b[0m\n",
      "\u001b[2m\u001b[36m(launch_and_evaluate pid=1863425)\u001b[0m [Client 83] evaluate, config: {}\u001b[32m [repeated 9x across cluster]\u001b[0m\n"
     ]
    },
    {
     "name": "stderr",
     "output_type": "stream",
     "text": [
      "DEBUG flwr 2023-08-25 17:26:49,672 | server.py:182 | evaluate_round 1 received 50 results and 0 failures\n",
      "WARNING flwr 2023-08-25 17:26:49,673 | fedavg.py:274 | No evaluate_metrics_aggregation_fn provided\n",
      "DEBUG flwr 2023-08-25 17:26:49,675 | server.py:218 | fit_round 2: strategy sampled 25 clients (out of 1000)\n"
     ]
    },
    {
     "name": "stdout",
     "output_type": "stream",
     "text": [
      "\u001b[2m\u001b[36m(launch_and_evaluate pid=1863337)\u001b[0m [Client 167] evaluate, config: {}\u001b[32m [repeated 21x across cluster]\u001b[0m\n",
      "\u001b[2m\u001b[36m(launch_and_fit pid=1863436)\u001b[0m [Client 775, round 2] fit, config: {'server_round': 2, 'local_epochs': 3}\n",
      "\u001b[2m\u001b[36m(launch_and_fit pid=1863436)\u001b[0m Epoch 1: train loss 0.10194248706102371, accuracy 0.13333333333333333\n",
      "\u001b[2m\u001b[36m(launch_and_fit pid=1863436)\u001b[0m Epoch 2: train loss 0.10133997350931168, accuracy 0.15555555555555556\n",
      "\u001b[2m\u001b[36m(launch_and_evaluate pid=1863425)\u001b[0m [Client 448] evaluate, config: {}\u001b[32m [repeated 3x across cluster]\u001b[0m\n",
      "\u001b[2m\u001b[36m(launch_and_fit pid=1863436)\u001b[0m Epoch 3: train loss 0.0999511331319809, accuracy 0.2\n",
      "\u001b[2m\u001b[36m(launch_and_fit pid=1863436)\u001b[0m [Client 992, round 2] fit, config: {'server_round': 2, 'local_epochs': 3}\n",
      "\u001b[2m\u001b[36m(launch_and_fit pid=1863436)\u001b[0m Epoch 1: train loss 0.10237182676792145, accuracy 0.044444444444444446\n",
      "\u001b[2m\u001b[36m(launch_and_fit pid=1863436)\u001b[0m Epoch 2: train loss 0.10124770551919937, accuracy 0.13333333333333333\n",
      "\u001b[2m\u001b[36m(launch_and_fit pid=1863436)\u001b[0m Epoch 3: train loss 0.10052831470966339, accuracy 0.13333333333333333\n",
      "\u001b[2m\u001b[36m(launch_and_fit pid=1863436)\u001b[0m [Client 257, round 2] fit, config: {'server_round': 2, 'local_epochs': 3}\n",
      "\u001b[2m\u001b[36m(launch_and_fit pid=1863436)\u001b[0m Epoch 1: train loss 0.10256890207529068, accuracy 0.1111111111111111\n",
      "\u001b[2m\u001b[36m(launch_and_fit pid=1863436)\u001b[0m Epoch 2: train loss 0.10092828422784805, accuracy 0.15555555555555556\n",
      "\u001b[2m\u001b[36m(launch_and_fit pid=1863436)\u001b[0m Epoch 3: train loss 0.09831513464450836, accuracy 0.17777777777777778\n",
      "\u001b[2m\u001b[36m(launch_and_fit pid=1863337)\u001b[0m [Client 967, round 2] fit, config: {'server_round': 2, 'local_epochs': 3}\n",
      "\u001b[2m\u001b[36m(launch_and_fit pid=1863425)\u001b[0m [Client 610, round 2] fit, config: {'server_round': 2, 'local_epochs': 3}\n",
      "\u001b[2m\u001b[36m(launch_and_fit pid=1863425)\u001b[0m Epoch 1: train loss 0.10237490385770798, accuracy 0.08888888888888889\n",
      "\u001b[2m\u001b[36m(launch_and_fit pid=1863425)\u001b[0m Epoch 2: train loss 0.1012742891907692, accuracy 0.28888888888888886\n"
     ]
    },
    {
     "name": "stderr",
     "output_type": "stream",
     "text": [
      "DEBUG flwr 2023-08-25 17:27:15,996 | server.py:232 | fit_round 2 received 25 results and 0 failures\n",
      "DEBUG flwr 2023-08-25 17:27:16,032 | server.py:168 | evaluate_round 2: strategy sampled 50 clients (out of 1000)\n"
     ]
    },
    {
     "name": "stdout",
     "output_type": "stream",
     "text": [
      "\u001b[2m\u001b[36m(launch_and_evaluate pid=1863430)\u001b[0m [Client 308] evaluate, config: {}\n",
      "\u001b[2m\u001b[36m(launch_and_fit pid=1863430)\u001b[0m [Client 189, round 2] fit, config: {'server_round': 2, 'local_epochs': 3}\u001b[32m [repeated 20x across cluster]\u001b[0m\n",
      "\u001b[2m\u001b[36m(launch_and_fit pid=1863371)\u001b[0m Epoch 3: train loss 0.10078839212656021, accuracy 0.17777777777777778\u001b[32m [repeated 64x across cluster]\u001b[0m\n",
      "\u001b[2m\u001b[36m(launch_and_evaluate pid=1863430)\u001b[0m [Client 66] evaluate, config: {}\n",
      "\u001b[2m\u001b[36m(launch_and_evaluate pid=1863337)\u001b[0m [Client 136] evaluate, config: {}\n",
      "\u001b[2m\u001b[36m(launch_and_evaluate pid=1863337)\u001b[0m [Client 184] evaluate, config: {}\n",
      "\u001b[2m\u001b[36m(launch_and_evaluate pid=1863337)\u001b[0m [Client 155] evaluate, config: {}\n",
      "\u001b[2m\u001b[36m(launch_and_evaluate pid=1863337)\u001b[0m [Client 354] evaluate, config: {}\n",
      "\u001b[2m\u001b[36m(launch_and_evaluate pid=1863337)\u001b[0m [Client 2] evaluate, config: {}\n",
      "\u001b[2m\u001b[36m(launch_and_evaluate pid=1863337)\u001b[0m [Client 832] evaluate, config: {}\n",
      "\u001b[2m\u001b[36m(launch_and_evaluate pid=1863337)\u001b[0m [Client 275] evaluate, config: {}\n",
      "\u001b[2m\u001b[36m(launch_and_evaluate pid=1863367)\u001b[0m [Client 530] evaluate, config: {}\u001b[32m [repeated 8x across cluster]\u001b[0m\n",
      "\u001b[2m\u001b[36m(launch_and_evaluate pid=1863430)\u001b[0m [Client 462] evaluate, config: {}\u001b[32m [repeated 3x across cluster]\u001b[0m\n"
     ]
    },
    {
     "name": "stderr",
     "output_type": "stream",
     "text": [
      "DEBUG flwr 2023-08-25 17:28:08,726 | server.py:182 | evaluate_round 2 received 50 results and 0 failures\n",
      "DEBUG flwr 2023-08-25 17:28:08,728 | server.py:218 | fit_round 3: strategy sampled 25 clients (out of 1000)\n"
     ]
    },
    {
     "name": "stdout",
     "output_type": "stream",
     "text": [
      "\u001b[2m\u001b[36m(launch_and_evaluate pid=1863430)\u001b[0m [Client 203] evaluate, config: {}\u001b[32m [repeated 29x across cluster]\u001b[0m\n",
      "\u001b[2m\u001b[36m(launch_and_fit pid=1863424)\u001b[0m [Client 384, round 3] fit, config: {'server_round': 3, 'local_epochs': 3}\n",
      "\u001b[2m\u001b[36m(launch_and_fit pid=1863424)\u001b[0m Epoch 1: train loss 0.10288602858781815, accuracy 0.1111111111111111\n",
      "\u001b[2m\u001b[36m(launch_and_fit pid=1863424)\u001b[0m Epoch 2: train loss 0.10095426440238953, accuracy 0.24444444444444444\n",
      "\u001b[2m\u001b[36m(launch_and_evaluate pid=1863371)\u001b[0m [Client 750] evaluate, config: {}\n",
      "\u001b[2m\u001b[36m(launch_and_fit pid=1863424)\u001b[0m Epoch 3: train loss 0.10023631900548935, accuracy 0.24444444444444444\n",
      "\u001b[2m\u001b[36m(launch_and_fit pid=1863424)\u001b[0m [Client 848, round 3] fit, config: {'server_round': 3, 'local_epochs': 3}\n",
      "\u001b[2m\u001b[36m(launch_and_fit pid=1863424)\u001b[0m Epoch 1: train loss 0.10147742927074432, accuracy 0.13333333333333333\n",
      "\u001b[2m\u001b[36m(launch_and_fit pid=1863424)\u001b[0m Epoch 2: train loss 0.10002461820840836, accuracy 0.2222222222222222\n",
      "\u001b[2m\u001b[36m(launch_and_fit pid=1863424)\u001b[0m Epoch 3: train loss 0.09927692264318466, accuracy 0.2222222222222222\n",
      "\u001b[2m\u001b[36m(launch_and_fit pid=1863374)\u001b[0m [Client 335, round 3] fit, config: {'server_round': 3, 'local_epochs': 3}\n",
      "\u001b[2m\u001b[36m(launch_and_fit pid=1863374)\u001b[0m Epoch 3: train loss 0.0959509089589119, accuracy 0.2\u001b[32m [repeated 3x across cluster]\u001b[0m\n",
      "\u001b[2m\u001b[36m(launch_and_fit pid=1863374)\u001b[0m [Client 428, round 3] fit, config: {'server_round': 3, 'local_epochs': 3}\n",
      "\u001b[2m\u001b[36m(launch_and_fit pid=1863374)\u001b[0m [Client 422, round 3] fit, config: {'server_round': 3, 'local_epochs': 3}\n",
      "\u001b[2m\u001b[36m(launch_and_fit pid=1863374)\u001b[0m [Client 934, round 3] fit, config: {'server_round': 3, 'local_epochs': 3}\n",
      "\u001b[2m\u001b[36m(launch_and_fit pid=1863374)\u001b[0m [Client 282, round 3] fit, config: {'server_round': 3, 'local_epochs': 3}\n",
      "\u001b[2m\u001b[36m(launch_and_fit pid=1863374)\u001b[0m [Client 204, round 3] fit, config: {'server_round': 3, 'local_epochs': 3}\n",
      "\u001b[2m\u001b[36m(launch_and_fit pid=1863374)\u001b[0m [Client 828, round 3] fit, config: {'server_round': 3, 'local_epochs': 3}\n",
      "\u001b[2m\u001b[36m(launch_and_fit pid=1863374)\u001b[0m [Client 920, round 3] fit, config: {'server_round': 3, 'local_epochs': 3}\n"
     ]
    },
    {
     "name": "stderr",
     "output_type": "stream",
     "text": [
      "DEBUG flwr 2023-08-25 17:28:35,313 | server.py:232 | fit_round 3 received 25 results and 0 failures\n",
      "DEBUG flwr 2023-08-25 17:28:35,350 | server.py:168 | evaluate_round 3: strategy sampled 50 clients (out of 1000)\n"
     ]
    },
    {
     "name": "stdout",
     "output_type": "stream",
     "text": [
      "\u001b[2m\u001b[36m(launch_and_fit pid=1863426)\u001b[0m Epoch 3: train loss 0.09815005958080292, accuracy 0.15555555555555556\u001b[32m [repeated 66x across cluster]\u001b[0m\n",
      "\u001b[2m\u001b[36m(launch_and_fit pid=1863426)\u001b[0m [Client 860, round 3] fit, config: {'server_round': 3, 'local_epochs': 3}\u001b[32m [repeated 15x across cluster]\u001b[0m\n",
      "\u001b[2m\u001b[36m(launch_and_evaluate pid=1863337)\u001b[0m [Client 54] evaluate, config: {}\n",
      "\u001b[2m\u001b[36m(launch_and_evaluate pid=1863426)\u001b[0m [Client 340] evaluate, config: {}\u001b[32m [repeated 6x across cluster]\u001b[0m\n",
      "\u001b[2m\u001b[36m(launch_and_evaluate pid=1863419)\u001b[0m [Client 771] evaluate, config: {}\u001b[32m [repeated 7x across cluster]\u001b[0m\n",
      "\u001b[2m\u001b[36m(launch_and_evaluate pid=1863426)\u001b[0m [Client 846] evaluate, config: {}\u001b[32m [repeated 5x across cluster]\u001b[0m\n"
     ]
    },
    {
     "name": "stderr",
     "output_type": "stream",
     "text": [
      "DEBUG flwr 2023-08-25 17:29:27,982 | server.py:182 | evaluate_round 3 received 50 results and 0 failures\n",
      "INFO flwr 2023-08-25 17:29:27,983 | server.py:147 | FL finished in 240.30791148915887\n",
      "INFO flwr 2023-08-25 17:29:27,983 | app.py:218 | app_fit: losses_distributed [(1, 0.4604914598464967), (2, 0.4577830133438109), (3, 0.4534457941055298)]\n",
      "INFO flwr 2023-08-25 17:29:27,984 | app.py:219 | app_fit: metrics_distributed_fit {}\n",
      "INFO flwr 2023-08-25 17:29:27,985 | app.py:220 | app_fit: metrics_distributed {}\n",
      "INFO flwr 2023-08-25 17:29:27,985 | app.py:221 | app_fit: losses_centralized []\n",
      "INFO flwr 2023-08-25 17:29:27,985 | app.py:222 | app_fit: metrics_centralized {}\n"
     ]
    },
    {
     "data": {
      "text/plain": [
       "History (loss, distributed):\n",
       "\tround 1: 0.4604914598464967\n",
       "\tround 2: 0.4577830133438109\n",
       "\tround 3: 0.4534457941055298"
      ]
     },
     "execution_count": 15,
     "metadata": {},
     "output_type": "execute_result"
    },
    {
     "name": "stdout",
     "output_type": "stream",
     "text": [
      "\u001b[2m\u001b[36m(launch_and_evaluate pid=1863436)\u001b[0m [Client 289] evaluate, config: {}\n"
     ]
    }
   ],
   "source": [
    "def fit_config(server_round: int):\n",
    "    config = {\n",
    "        \"server_round\": server_round,\n",
    "        \"local_epochs\": 3,\n",
    "    }\n",
    "    return config\n",
    "\n",
    "\n",
    "strategy = fl.server.strategy.FedAvg(\n",
    "    fraction_fit=0.025,  # Train on 25 clients (each round)\n",
    "    fraction_evaluate=0.05,  # Evaluate on 50 clients (each round)\n",
    "    min_fit_clients=20,\n",
    "    min_evaluate_clients=40,\n",
    "    min_available_clients=NUM_CLIENTS,\n",
    "    initial_parameters=fl.common.ndarrays_to_parameters(get_parameters(Net())),\n",
    "    on_fit_config_fn=fit_config,\n",
    ")\n",
    "\n",
    "fl.simulation.start_simulation(\n",
    "    client_fn=client_fn,\n",
    "    num_clients=NUM_CLIENTS,\n",
    "    config=fl.server.ServerConfig(num_rounds=3),  # Just three rounds\n",
    "    strategy=strategy,\n",
    "    client_resources=client_resources,\n",
    ")"
   ]
  },
  {
   "cell_type": "markdown",
   "metadata": {},
   "source": [
    "## Recap\n",
    "\n",
    "In this notebook, we've seen how we can gradually enhance our system by customizing the strategy, initializing parameters on the server side, choosing a different strategy, and evaluating models on the server-side. That's quite a bit of flexibility with so little code, right?\n",
    "\n",
    "In the later sections, we've seen how we can communicate arbitrary values between server and clients to fully customize client-side execution. With that capability, we built a large-scale Federated Learning simulation using the Flower Virtual Client Engine and ran an experiment involving 1000 clients in the same workload - all in a Jupyter Notebook!"
   ]
  },
  {
   "cell_type": "markdown",
   "metadata": {},
   "source": [
    "## Next steps\n",
    "\n",
    "Before you continue, make sure to join the Flower community on Slack: [Join Slack](https://flower.dev/join-slack/)\n",
    "\n",
    "There's a dedicated `#questions` channel if you need help, but we'd also love to hear who you are in `#introductions`!\n",
    "\n",
    "The [Flower Federated Learning Tutorial - Part 3](https://flower.dev/docs/framework/tutorial-build-a-strategy-from-scratch-pytorch.html) shows how to build a fully custom `Strategy` from scratch."
   ]
  }
 ],
 "metadata": {
  "colab": {
   "name": "Flower-2-Strategies-in-FL-PyTorch.ipynb",
   "provenance": [],
   "toc_visible": true
  },
  "kernelspec": {
   "display_name": "Python 3 (ipykernel)",
   "language": "python",
   "name": "python3"
  },
  "language_info": {
   "codemirror_mode": {
    "name": "ipython",
    "version": 3
   },
   "file_extension": ".py",
   "mimetype": "text/x-python",
   "name": "python",
   "nbconvert_exporter": "python",
   "pygments_lexer": "ipython3",
   "version": "3.9.17"
  }
 },
 "nbformat": 4,
 "nbformat_minor": 0
}
